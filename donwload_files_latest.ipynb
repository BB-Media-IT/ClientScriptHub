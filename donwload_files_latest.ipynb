{
 "cells": [
  {
   "cell_type": "code",
   "execution_count": 1,
   "metadata": {},
   "outputs": [],
   "source": [
    "import os\n",
    "import re\n",
    "from configparser import ConfigParser\n",
    "from boto3        import session"
   ]
  },
  {
   "cell_type": "markdown",
   "metadata": {},
   "source": [
    "Variable Collection"
   ]
  },
  {
   "cell_type": "code",
   "execution_count": 2,
   "metadata": {},
   "outputs": [
    {
     "data": {
      "text/plain": [
       "['config.cfg']"
      ]
     },
     "execution_count": 2,
     "metadata": {},
     "output_type": "execute_result"
    }
   ],
   "source": [
    "parser = ConfigParser()\n",
    "parser.read('config.cfg')"
   ]
  },
  {
   "cell_type": "markdown",
   "metadata": {},
   "source": [
    "Connection Configuration"
   ]
  },
  {
   "cell_type": "code",
   "execution_count": 3,
   "metadata": {},
   "outputs": [],
   "source": [
    "conn = session.Session()\n",
    "client = conn.client(\n",
    "    's3',\n",
    "    region_name=parser.get('aws_digital_ocean', 'REGION_NAME'),\n",
    "    endpoint_url=parser.get('aws_digital_ocean', 'ENDPOINT'),\n",
    "    aws_access_key_id=parser.get('aws_digital_ocean', 'ACCESS_ID'),\n",
    "    aws_secret_access_key=parser.get('aws_digital_ocean', 'SECRET_KEY')\n",
    ")"
   ]
  },
  {
   "cell_type": "markdown",
   "metadata": {},
   "source": [
    "Pagination Activation"
   ]
  },
  {
   "cell_type": "code",
   "execution_count": 4,
   "metadata": {},
   "outputs": [],
   "source": [
    "paginator = client.get_paginator('list_objects_v2')"
   ]
  },
  {
   "cell_type": "markdown",
   "metadata": {},
   "source": [
    "List Prefix"
   ]
  },
  {
   "cell_type": "code",
   "execution_count": 5,
   "metadata": {},
   "outputs": [],
   "source": [
    "list_pages = []\n",
    "for prefix in parser['prefix_buckets']:\n",
    "    bucket = parser.get('aws_digital_ocean', 'BUCKET')\n",
    "    prefix_const = f\"{parser.get('prefix_buckets', prefix)}\"\n",
    "\n",
    "    pages = paginator.paginate(Bucket=bucket, Prefix=prefix_const)\n",
    "\n",
    "    for page in pages:\n",
    "        if page['KeyCount'] > 0:\n",
    "            for obj in page['Contents']:\n",
    "                if len(re.findall(r'ALL PLATFORMS.xlsx', obj['Key']))>0:\n",
    "                    list_pages.append(\n",
    "                        {\n",
    "                            'path_download': prefix,\n",
    "                            'file_name': obj['Key']\n",
    "                        }\n",
    "                    )"
   ]
  },
  {
   "cell_type": "code",
   "execution_count": 6,
   "metadata": {},
   "outputs": [
    {
     "name": "stdout",
     "output_type": "stream",
     "text": [
      "57\n"
     ]
    }
   ],
   "source": [
    "print(len(list_pages))"
   ]
  },
  {
   "cell_type": "code",
   "execution_count": 7,
   "metadata": {},
   "outputs": [
    {
     "data": {
      "text/plain": [
       "[{'path_download': 'contents',\n",
       "  'file_name': 'Exports/2023-08-31/American Samoa/BB Media - 2023-08-31 - American Samoa - ALL PLATFORMS.xlsx'},\n",
       " {'path_download': 'contents',\n",
       "  'file_name': 'Exports/2023-08-31/Australia/BB Media - 2023-08-31 - Australia - ALL PLATFORMS.xlsx'},\n",
       " {'path_download': 'contents',\n",
       "  'file_name': 'Exports/2023-08-31/Bangladesh/BB Media - 2023-08-31 - Bangladesh - ALL PLATFORMS.xlsx'},\n",
       " {'path_download': 'contents',\n",
       "  'file_name': 'Exports/2023-08-31/Bhutan/BB Media - 2023-08-31 - Bhutan - ALL PLATFORMS.xlsx'},\n",
       " {'path_download': 'contents',\n",
       "  'file_name': 'Exports/2023-08-31/British Indian Ocean Territory/BB Media - 2023-08-31 - British Indian Ocean Territory - ALL PLATFORMS.xlsx'},\n",
       " {'path_download': 'contents',\n",
       "  'file_name': 'Exports/2023-08-31/Brunei Darussalam/BB Media - 2023-08-31 - Brunei Darussalam - ALL PLATFORMS.xlsx'},\n",
       " {'path_download': 'contents',\n",
       "  'file_name': 'Exports/2023-08-31/Cambodia/BB Media - 2023-08-31 - Cambodia - ALL PLATFORMS.xlsx'},\n",
       " {'path_download': 'contents',\n",
       "  'file_name': 'Exports/2023-08-31/China/BB Media - 2023-08-31 - China - ALL PLATFORMS.xlsx'},\n",
       " {'path_download': 'contents',\n",
       "  'file_name': 'Exports/2023-08-31/Christmas Island/BB Media - 2023-08-31 - Christmas Island - ALL PLATFORMS.xlsx'},\n",
       " {'path_download': 'contents',\n",
       "  'file_name': 'Exports/2023-08-31/Cocos (Keeling) Islands/BB Media - 2023-08-31 - Cocos (Keeling) Islands - ALL PLATFORMS.xlsx'},\n",
       " {'path_download': 'contents',\n",
       "  'file_name': 'Exports/2023-08-31/Cook Islands/BB Media - 2023-08-31 - Cook Islands - ALL PLATFORMS.xlsx'},\n",
       " {'path_download': 'contents',\n",
       "  'file_name': 'Exports/2023-08-31/Fiji/BB Media - 2023-08-31 - Fiji - ALL PLATFORMS.xlsx'},\n",
       " {'path_download': 'contents',\n",
       "  'file_name': 'Exports/2023-08-31/French Polynesia/BB Media - 2023-08-31 - French Polynesia - ALL PLATFORMS.xlsx'},\n",
       " {'path_download': 'contents',\n",
       "  'file_name': 'Exports/2023-08-31/French Southern Territories/BB Media - 2023-08-31 - French Southern Territories - ALL PLATFORMS.xlsx'},\n",
       " {'path_download': 'contents',\n",
       "  'file_name': 'Exports/2023-08-31/Guam/BB Media - 2023-08-31 - Guam - ALL PLATFORMS.xlsx'},\n",
       " {'path_download': 'contents',\n",
       "  'file_name': 'Exports/2023-08-31/Heard Island and McDonald Islands/BB Media - 2023-08-31 - Heard Island and McDonald Islands - ALL PLATFORMS.xlsx'},\n",
       " {'path_download': 'contents',\n",
       "  'file_name': 'Exports/2023-08-31/Hong Kong/BB Media - 2023-08-31 - Hong Kong - ALL PLATFORMS.xlsx'},\n",
       " {'path_download': 'contents',\n",
       "  'file_name': 'Exports/2023-08-31/India/BB Media - 2023-08-31 - India - ALL PLATFORMS.xlsx'},\n",
       " {'path_download': 'contents',\n",
       "  'file_name': 'Exports/2023-08-31/Indonesia/BB Media - 2023-08-31 - Indonesia - ALL PLATFORMS.xlsx'},\n",
       " {'path_download': 'contents',\n",
       "  'file_name': 'Exports/2023-08-31/Japan/BB Media - 2023-08-31 - Japan - ALL PLATFORMS.xlsx'},\n",
       " {'path_download': 'contents',\n",
       "  'file_name': 'Exports/2023-08-31/Kiribati/BB Media - 2023-08-31 - Kiribati - ALL PLATFORMS.xlsx'},\n",
       " {'path_download': 'contents',\n",
       "  'file_name': 'Exports/2023-08-31/Laos/BB Media - 2023-08-31 - Laos - ALL PLATFORMS.xlsx'},\n",
       " {'path_download': 'contents',\n",
       "  'file_name': 'Exports/2023-08-31/Macao/BB Media - 2023-08-31 - Macao - ALL PLATFORMS.xlsx'},\n",
       " {'path_download': 'contents',\n",
       "  'file_name': 'Exports/2023-08-31/Malaysia/BB Media - 2023-08-31 - Malaysia - ALL PLATFORMS.xlsx'},\n",
       " {'path_download': 'contents',\n",
       "  'file_name': 'Exports/2023-08-31/Maldives/BB Media - 2023-08-31 - Maldives - ALL PLATFORMS.xlsx'},\n",
       " {'path_download': 'contents',\n",
       "  'file_name': 'Exports/2023-08-31/Marshall Islands/BB Media - 2023-08-31 - Marshall Islands - ALL PLATFORMS.xlsx'},\n",
       " {'path_download': 'contents',\n",
       "  'file_name': 'Exports/2023-08-31/Micronesia (Federated States of)/BB Media - 2023-08-31 - Micronesia (Federated States of) - ALL PLATFORMS.xlsx'},\n",
       " {'path_download': 'contents',\n",
       "  'file_name': 'Exports/2023-08-31/Mongolia/BB Media - 2023-08-31 - Mongolia - ALL PLATFORMS.xlsx'},\n",
       " {'path_download': 'contents',\n",
       "  'file_name': 'Exports/2023-08-31/Myanmar/BB Media - 2023-08-31 - Myanmar - ALL PLATFORMS.xlsx'},\n",
       " {'path_download': 'contents',\n",
       "  'file_name': 'Exports/2023-08-31/Nauru/BB Media - 2023-08-31 - Nauru - ALL PLATFORMS.xlsx'},\n",
       " {'path_download': 'contents',\n",
       "  'file_name': 'Exports/2023-08-31/Nepal/BB Media - 2023-08-31 - Nepal - ALL PLATFORMS.xlsx'},\n",
       " {'path_download': 'contents',\n",
       "  'file_name': 'Exports/2023-08-31/New Caledonia/BB Media - 2023-08-31 - New Caledonia - ALL PLATFORMS.xlsx'},\n",
       " {'path_download': 'contents',\n",
       "  'file_name': 'Exports/2023-08-31/New Zealand/BB Media - 2023-08-31 - New Zealand - ALL PLATFORMS.xlsx'},\n",
       " {'path_download': 'contents',\n",
       "  'file_name': 'Exports/2023-08-31/Niue/BB Media - 2023-08-31 - Niue - ALL PLATFORMS.xlsx'},\n",
       " {'path_download': 'contents',\n",
       "  'file_name': 'Exports/2023-08-31/Norfolk Island/BB Media - 2023-08-31 - Norfolk Island - ALL PLATFORMS.xlsx'},\n",
       " {'path_download': 'contents',\n",
       "  'file_name': 'Exports/2023-08-31/North Korea/BB Media - 2023-08-31 - North Korea - ALL PLATFORMS.xlsx'},\n",
       " {'path_download': 'contents',\n",
       "  'file_name': 'Exports/2023-08-31/Northern Mariana Islands/BB Media - 2023-08-31 - Northern Mariana Islands - ALL PLATFORMS.xlsx'},\n",
       " {'path_download': 'contents',\n",
       "  'file_name': 'Exports/2023-08-31/Pakistan/BB Media - 2023-08-31 - Pakistan - ALL PLATFORMS.xlsx'},\n",
       " {'path_download': 'contents',\n",
       "  'file_name': 'Exports/2023-08-31/Palau/BB Media - 2023-08-31 - Palau - ALL PLATFORMS.xlsx'},\n",
       " {'path_download': 'contents',\n",
       "  'file_name': 'Exports/2023-08-31/Papua New Guinea/BB Media - 2023-08-31 - Papua New Guinea - ALL PLATFORMS.xlsx'},\n",
       " {'path_download': 'contents',\n",
       "  'file_name': 'Exports/2023-08-31/Philippines/BB Media - 2023-08-31 - Philippines - ALL PLATFORMS.xlsx'},\n",
       " {'path_download': 'contents',\n",
       "  'file_name': 'Exports/2023-08-31/Pitcairn/BB Media - 2023-08-31 - Pitcairn - ALL PLATFORMS.xlsx'},\n",
       " {'path_download': 'contents',\n",
       "  'file_name': 'Exports/2023-08-31/Samoa/BB Media - 2023-08-31 - Samoa - ALL PLATFORMS.xlsx'},\n",
       " {'path_download': 'contents',\n",
       "  'file_name': 'Exports/2023-08-31/Singapore/BB Media - 2023-08-31 - Singapore - ALL PLATFORMS.xlsx'},\n",
       " {'path_download': 'contents',\n",
       "  'file_name': 'Exports/2023-08-31/Solomon Islands/BB Media - 2023-08-31 - Solomon Islands - ALL PLATFORMS.xlsx'},\n",
       " {'path_download': 'contents',\n",
       "  'file_name': 'Exports/2023-08-31/South Korea/BB Media - 2023-08-31 - South Korea - ALL PLATFORMS.xlsx'},\n",
       " {'path_download': 'contents',\n",
       "  'file_name': 'Exports/2023-08-31/Sri Lanka/BB Media - 2023-08-31 - Sri Lanka - ALL PLATFORMS.xlsx'},\n",
       " {'path_download': 'contents',\n",
       "  'file_name': 'Exports/2023-08-31/Taiwan/BB Media - 2023-08-31 - Taiwan - ALL PLATFORMS.xlsx'},\n",
       " {'path_download': 'contents',\n",
       "  'file_name': 'Exports/2023-08-31/Thailand/BB Media - 2023-08-31 - Thailand - ALL PLATFORMS.xlsx'},\n",
       " {'path_download': 'contents',\n",
       "  'file_name': 'Exports/2023-08-31/Timor-Leste/BB Media - 2023-08-31 - Timor-Leste - ALL PLATFORMS.xlsx'},\n",
       " {'path_download': 'contents',\n",
       "  'file_name': 'Exports/2023-08-31/Tokelau/BB Media - 2023-08-31 - Tokelau - ALL PLATFORMS.xlsx'},\n",
       " {'path_download': 'contents',\n",
       "  'file_name': 'Exports/2023-08-31/Tonga/BB Media - 2023-08-31 - Tonga - ALL PLATFORMS.xlsx'},\n",
       " {'path_download': 'contents',\n",
       "  'file_name': 'Exports/2023-08-31/Tuvalu/BB Media - 2023-08-31 - Tuvalu - ALL PLATFORMS.xlsx'},\n",
       " {'path_download': 'contents',\n",
       "  'file_name': 'Exports/2023-08-31/United States Minor Outlying Islands/BB Media - 2023-08-31 - United States Minor Outlying Islands - ALL PLATFORMS.xlsx'},\n",
       " {'path_download': 'contents',\n",
       "  'file_name': 'Exports/2023-08-31/Vanuatu/BB Media - 2023-08-31 - Vanuatu - ALL PLATFORMS.xlsx'},\n",
       " {'path_download': 'contents',\n",
       "  'file_name': 'Exports/2023-08-31/Vietnam/BB Media - 2023-08-31 - Vietnam - ALL PLATFORMS.xlsx'},\n",
       " {'path_download': 'contents',\n",
       "  'file_name': 'Exports/2023-08-31/Wallis and Futuna/BB Media - 2023-08-31 - Wallis and Futuna - ALL PLATFORMS.xlsx'}]"
      ]
     },
     "execution_count": 7,
     "metadata": {},
     "output_type": "execute_result"
    }
   ],
   "source": [
    "list_pages"
   ]
  },
  {
   "cell_type": "markdown",
   "metadata": {},
   "source": [
    "Download Files"
   ]
  },
  {
   "cell_type": "code",
   "execution_count": 8,
   "metadata": {},
   "outputs": [
    {
     "name": "stdout",
     "output_type": "stream",
     "text": [
      "BB Media - 2023-08-31 - American Samoa - ALL PLATFORMS.xlsx Datos/Contents Datos/Contents/BB Media - 2023-08-31 - American Samoa - ALL PLATFORMS.xlsx\n",
      "BB Media - 2023-08-31 - Australia - ALL PLATFORMS.xlsx Datos/Contents Datos/Contents/BB Media - 2023-08-31 - Australia - ALL PLATFORMS.xlsx\n",
      "BB Media - 2023-08-31 - Bangladesh - ALL PLATFORMS.xlsx Datos/Contents Datos/Contents/BB Media - 2023-08-31 - Bangladesh - ALL PLATFORMS.xlsx\n",
      "BB Media - 2023-08-31 - Bhutan - ALL PLATFORMS.xlsx Datos/Contents Datos/Contents/BB Media - 2023-08-31 - Bhutan - ALL PLATFORMS.xlsx\n",
      "BB Media - 2023-08-31 - British Indian Ocean Territory - ALL PLATFORMS.xlsx Datos/Contents Datos/Contents/BB Media - 2023-08-31 - British Indian Ocean Territory - ALL PLATFORMS.xlsx\n",
      "BB Media - 2023-08-31 - Brunei Darussalam - ALL PLATFORMS.xlsx Datos/Contents Datos/Contents/BB Media - 2023-08-31 - Brunei Darussalam - ALL PLATFORMS.xlsx\n",
      "BB Media - 2023-08-31 - Cambodia - ALL PLATFORMS.xlsx Datos/Contents Datos/Contents/BB Media - 2023-08-31 - Cambodia - ALL PLATFORMS.xlsx\n",
      "BB Media - 2023-08-31 - China - ALL PLATFORMS.xlsx Datos/Contents Datos/Contents/BB Media - 2023-08-31 - China - ALL PLATFORMS.xlsx\n",
      "BB Media - 2023-08-31 - Christmas Island - ALL PLATFORMS.xlsx Datos/Contents Datos/Contents/BB Media - 2023-08-31 - Christmas Island - ALL PLATFORMS.xlsx\n",
      "BB Media - 2023-08-31 - Cocos (Keeling) Islands - ALL PLATFORMS.xlsx Datos/Contents Datos/Contents/BB Media - 2023-08-31 - Cocos (Keeling) Islands - ALL PLATFORMS.xlsx\n",
      "BB Media - 2023-08-31 - Cook Islands - ALL PLATFORMS.xlsx Datos/Contents Datos/Contents/BB Media - 2023-08-31 - Cook Islands - ALL PLATFORMS.xlsx\n",
      "BB Media - 2023-08-31 - Fiji - ALL PLATFORMS.xlsx Datos/Contents Datos/Contents/BB Media - 2023-08-31 - Fiji - ALL PLATFORMS.xlsx\n",
      "BB Media - 2023-08-31 - French Polynesia - ALL PLATFORMS.xlsx Datos/Contents Datos/Contents/BB Media - 2023-08-31 - French Polynesia - ALL PLATFORMS.xlsx\n",
      "BB Media - 2023-08-31 - French Southern Territories - ALL PLATFORMS.xlsx Datos/Contents Datos/Contents/BB Media - 2023-08-31 - French Southern Territories - ALL PLATFORMS.xlsx\n",
      "BB Media - 2023-08-31 - Guam - ALL PLATFORMS.xlsx Datos/Contents Datos/Contents/BB Media - 2023-08-31 - Guam - ALL PLATFORMS.xlsx\n",
      "BB Media - 2023-08-31 - Heard Island and McDonald Islands - ALL PLATFORMS.xlsx Datos/Contents Datos/Contents/BB Media - 2023-08-31 - Heard Island and McDonald Islands - ALL PLATFORMS.xlsx\n",
      "BB Media - 2023-08-31 - Hong Kong - ALL PLATFORMS.xlsx Datos/Contents Datos/Contents/BB Media - 2023-08-31 - Hong Kong - ALL PLATFORMS.xlsx\n",
      "BB Media - 2023-08-31 - India - ALL PLATFORMS.xlsx Datos/Contents Datos/Contents/BB Media - 2023-08-31 - India - ALL PLATFORMS.xlsx\n",
      "BB Media - 2023-08-31 - Indonesia - ALL PLATFORMS.xlsx Datos/Contents Datos/Contents/BB Media - 2023-08-31 - Indonesia - ALL PLATFORMS.xlsx\n",
      "BB Media - 2023-08-31 - Japan - ALL PLATFORMS.xlsx Datos/Contents Datos/Contents/BB Media - 2023-08-31 - Japan - ALL PLATFORMS.xlsx\n",
      "BB Media - 2023-08-31 - Kiribati - ALL PLATFORMS.xlsx Datos/Contents Datos/Contents/BB Media - 2023-08-31 - Kiribati - ALL PLATFORMS.xlsx\n",
      "BB Media - 2023-08-31 - Laos - ALL PLATFORMS.xlsx Datos/Contents Datos/Contents/BB Media - 2023-08-31 - Laos - ALL PLATFORMS.xlsx\n",
      "BB Media - 2023-08-31 - Macao - ALL PLATFORMS.xlsx Datos/Contents Datos/Contents/BB Media - 2023-08-31 - Macao - ALL PLATFORMS.xlsx\n",
      "BB Media - 2023-08-31 - Malaysia - ALL PLATFORMS.xlsx Datos/Contents Datos/Contents/BB Media - 2023-08-31 - Malaysia - ALL PLATFORMS.xlsx\n",
      "BB Media - 2023-08-31 - Maldives - ALL PLATFORMS.xlsx Datos/Contents Datos/Contents/BB Media - 2023-08-31 - Maldives - ALL PLATFORMS.xlsx\n",
      "BB Media - 2023-08-31 - Marshall Islands - ALL PLATFORMS.xlsx Datos/Contents Datos/Contents/BB Media - 2023-08-31 - Marshall Islands - ALL PLATFORMS.xlsx\n",
      "BB Media - 2023-08-31 - Micronesia (Federated States of) - ALL PLATFORMS.xlsx Datos/Contents Datos/Contents/BB Media - 2023-08-31 - Micronesia (Federated States of) - ALL PLATFORMS.xlsx\n",
      "BB Media - 2023-08-31 - Mongolia - ALL PLATFORMS.xlsx Datos/Contents Datos/Contents/BB Media - 2023-08-31 - Mongolia - ALL PLATFORMS.xlsx\n",
      "BB Media - 2023-08-31 - Myanmar - ALL PLATFORMS.xlsx Datos/Contents Datos/Contents/BB Media - 2023-08-31 - Myanmar - ALL PLATFORMS.xlsx\n",
      "BB Media - 2023-08-31 - Nauru - ALL PLATFORMS.xlsx Datos/Contents Datos/Contents/BB Media - 2023-08-31 - Nauru - ALL PLATFORMS.xlsx\n",
      "BB Media - 2023-08-31 - Nepal - ALL PLATFORMS.xlsx Datos/Contents Datos/Contents/BB Media - 2023-08-31 - Nepal - ALL PLATFORMS.xlsx\n",
      "BB Media - 2023-08-31 - New Caledonia - ALL PLATFORMS.xlsx Datos/Contents Datos/Contents/BB Media - 2023-08-31 - New Caledonia - ALL PLATFORMS.xlsx\n",
      "BB Media - 2023-08-31 - New Zealand - ALL PLATFORMS.xlsx Datos/Contents Datos/Contents/BB Media - 2023-08-31 - New Zealand - ALL PLATFORMS.xlsx\n",
      "BB Media - 2023-08-31 - Niue - ALL PLATFORMS.xlsx Datos/Contents Datos/Contents/BB Media - 2023-08-31 - Niue - ALL PLATFORMS.xlsx\n",
      "BB Media - 2023-08-31 - Norfolk Island - ALL PLATFORMS.xlsx Datos/Contents Datos/Contents/BB Media - 2023-08-31 - Norfolk Island - ALL PLATFORMS.xlsx\n",
      "BB Media - 2023-08-31 - North Korea - ALL PLATFORMS.xlsx Datos/Contents Datos/Contents/BB Media - 2023-08-31 - North Korea - ALL PLATFORMS.xlsx\n",
      "BB Media - 2023-08-31 - Northern Mariana Islands - ALL PLATFORMS.xlsx Datos/Contents Datos/Contents/BB Media - 2023-08-31 - Northern Mariana Islands - ALL PLATFORMS.xlsx\n",
      "BB Media - 2023-08-31 - Pakistan - ALL PLATFORMS.xlsx Datos/Contents Datos/Contents/BB Media - 2023-08-31 - Pakistan - ALL PLATFORMS.xlsx\n",
      "BB Media - 2023-08-31 - Palau - ALL PLATFORMS.xlsx Datos/Contents Datos/Contents/BB Media - 2023-08-31 - Palau - ALL PLATFORMS.xlsx\n",
      "BB Media - 2023-08-31 - Papua New Guinea - ALL PLATFORMS.xlsx Datos/Contents Datos/Contents/BB Media - 2023-08-31 - Papua New Guinea - ALL PLATFORMS.xlsx\n",
      "BB Media - 2023-08-31 - Philippines - ALL PLATFORMS.xlsx Datos/Contents Datos/Contents/BB Media - 2023-08-31 - Philippines - ALL PLATFORMS.xlsx\n",
      "BB Media - 2023-08-31 - Pitcairn - ALL PLATFORMS.xlsx Datos/Contents Datos/Contents/BB Media - 2023-08-31 - Pitcairn - ALL PLATFORMS.xlsx\n",
      "BB Media - 2023-08-31 - Samoa - ALL PLATFORMS.xlsx Datos/Contents Datos/Contents/BB Media - 2023-08-31 - Samoa - ALL PLATFORMS.xlsx\n",
      "BB Media - 2023-08-31 - Singapore - ALL PLATFORMS.xlsx Datos/Contents Datos/Contents/BB Media - 2023-08-31 - Singapore - ALL PLATFORMS.xlsx\n",
      "BB Media - 2023-08-31 - Solomon Islands - ALL PLATFORMS.xlsx Datos/Contents Datos/Contents/BB Media - 2023-08-31 - Solomon Islands - ALL PLATFORMS.xlsx\n",
      "BB Media - 2023-08-31 - South Korea - ALL PLATFORMS.xlsx Datos/Contents Datos/Contents/BB Media - 2023-08-31 - South Korea - ALL PLATFORMS.xlsx\n",
      "BB Media - 2023-08-31 - Sri Lanka - ALL PLATFORMS.xlsx Datos/Contents Datos/Contents/BB Media - 2023-08-31 - Sri Lanka - ALL PLATFORMS.xlsx\n",
      "BB Media - 2023-08-31 - Taiwan - ALL PLATFORMS.xlsx Datos/Contents Datos/Contents/BB Media - 2023-08-31 - Taiwan - ALL PLATFORMS.xlsx\n",
      "BB Media - 2023-08-31 - Thailand - ALL PLATFORMS.xlsx Datos/Contents Datos/Contents/BB Media - 2023-08-31 - Thailand - ALL PLATFORMS.xlsx\n",
      "BB Media - 2023-08-31 - Timor-Leste - ALL PLATFORMS.xlsx Datos/Contents Datos/Contents/BB Media - 2023-08-31 - Timor-Leste - ALL PLATFORMS.xlsx\n",
      "BB Media - 2023-08-31 - Tokelau - ALL PLATFORMS.xlsx Datos/Contents Datos/Contents/BB Media - 2023-08-31 - Tokelau - ALL PLATFORMS.xlsx\n",
      "BB Media - 2023-08-31 - Tonga - ALL PLATFORMS.xlsx Datos/Contents Datos/Contents/BB Media - 2023-08-31 - Tonga - ALL PLATFORMS.xlsx\n",
      "BB Media - 2023-08-31 - Tuvalu - ALL PLATFORMS.xlsx Datos/Contents Datos/Contents/BB Media - 2023-08-31 - Tuvalu - ALL PLATFORMS.xlsx\n",
      "BB Media - 2023-08-31 - United States Minor Outlying Islands - ALL PLATFORMS.xlsx Datos/Contents Datos/Contents/BB Media - 2023-08-31 - United States Minor Outlying Islands - ALL PLATFORMS.xlsx\n",
      "BB Media - 2023-08-31 - Vanuatu - ALL PLATFORMS.xlsx Datos/Contents Datos/Contents/BB Media - 2023-08-31 - Vanuatu - ALL PLATFORMS.xlsx\n",
      "BB Media - 2023-08-31 - Vietnam - ALL PLATFORMS.xlsx Datos/Contents Datos/Contents/BB Media - 2023-08-31 - Vietnam - ALL PLATFORMS.xlsx\n",
      "BB Media - 2023-08-31 - Wallis and Futuna - ALL PLATFORMS.xlsx Datos/Contents Datos/Contents/BB Media - 2023-08-31 - Wallis and Futuna - ALL PLATFORMS.xlsx\n"
     ]
    }
   ],
   "source": [
    "for item in list_pages:\n",
    "    FILE_NAME = item['file_name'].split('/')[-1]          \n",
    "    PATH_DOWNLOAD = parser.get('paths', item['path_download'])\n",
    "\n",
    "    if not os.path.exists(PATH_DOWNLOAD):\n",
    "        os.makedirs(PATH_DOWNLOAD)\n",
    "\n",
    "    FILE_DONWLOAD = f\"{PATH_DOWNLOAD}/{FILE_NAME}\"   \n",
    "    print(FILE_NAME, PATH_DOWNLOAD, FILE_DONWLOAD)     \n",
    "    with open(FILE_DONWLOAD, 'wb') as f:\n",
    "        client.download_fileobj(parser.get('aws_digital_ocean', 'BUCKET'), item['file_name'], f)"
   ]
  }
 ],
 "metadata": {
  "kernelspec": {
   "display_name": "spark",
   "language": "python",
   "name": "python3"
  },
  "language_info": {
   "codemirror_mode": {
    "name": "ipython",
    "version": 3
   },
   "file_extension": ".py",
   "mimetype": "text/x-python",
   "name": "python",
   "nbconvert_exporter": "python",
   "pygments_lexer": "ipython3",
   "version": "3.8.17"
  },
  "orig_nbformat": 4
 },
 "nbformat": 4,
 "nbformat_minor": 2
}
