{
 "cells": [
  {
   "cell_type": "code",
   "execution_count": null,
   "metadata": {},
   "outputs": [],
   "source": [
    "import os\n",
    "import re\n",
    "from configparser import ConfigParser\n",
    "from boto3        import session"
   ]
  },
  {
   "cell_type": "markdown",
   "metadata": {},
   "source": [
    "Variable Collection"
   ]
  },
  {
   "cell_type": "code",
   "execution_count": null,
   "metadata": {},
   "outputs": [],
   "source": [
    "parser = ConfigParser()\n",
    "parser.read('config.cfg')"
   ]
  },
  {
   "cell_type": "markdown",
   "metadata": {},
   "source": [
    "Connection Configuration"
   ]
  },
  {
   "cell_type": "code",
   "execution_count": null,
   "metadata": {},
   "outputs": [],
   "source": [
    "conn = session.Session()\n",
    "client = conn.client(\n",
    "    's3',\n",
    "    region_name=parser.get('aws_digital_ocean', 'REGION_NAME'),\n",
    "    endpoint_url=parser.get('aws_digital_ocean', 'ENDPOINT'),\n",
    "    aws_access_key_id=parser.get('aws_digital_ocean', 'ACCESS_ID'),\n",
    "    aws_secret_access_key=parser.get('aws_digital_ocean', 'SECRET_KEY')\n",
    ")"
   ]
  },
  {
   "cell_type": "markdown",
   "metadata": {},
   "source": [
    "Pagination Activation"
   ]
  },
  {
   "cell_type": "code",
   "execution_count": null,
   "metadata": {},
   "outputs": [],
   "source": [
    "paginator = client.get_paginator('list_objects_v2')"
   ]
  },
  {
   "cell_type": "markdown",
   "metadata": {},
   "source": [
    "List Prefix"
   ]
  },
  {
   "cell_type": "code",
   "execution_count": null,
   "metadata": {},
   "outputs": [],
   "source": [
    "list_pages = []\n",
    "for prefix in parser['prefix_buckets']:\n",
    "    bucket = parser.get('aws_digital_ocean', 'BUCKET')\n",
    "    prefix_const = f\"{parser.get('prefix_buckets', prefix)}\"\n",
    "\n",
    "    pages = paginator.paginate(Bucket=bucket, Prefix=prefix_const)\n",
    "\n",
    "    for page in pages:\n",
    "        if page['KeyCount'] > 0:\n",
    "            for obj in page['Contents']:\n",
    "                if len(re.findall(r'.jsonl', obj['Key']))>0:\n",
    "                    list_pages.append(\n",
    "                        {\n",
    "                            'path_download': prefix,\n",
    "                            'file_name': obj['Key']\n",
    "                        }\n",
    "                    )"
   ]
  },
  {
   "cell_type": "code",
   "execution_count": null,
   "metadata": {},
   "outputs": [],
   "source": [
    "print(len(list_pages))"
   ]
  },
  {
   "cell_type": "markdown",
   "metadata": {},
   "source": [
    "Download Files"
   ]
  },
  {
   "cell_type": "code",
   "execution_count": null,
   "metadata": {},
   "outputs": [],
   "source": [
    "for item in list_pages:\n",
    "    FILE_NAME = item['file_name'].split('/')[-1]          \n",
    "    PATH_DOWNLOAD = parser.get('paths', item['path_download'])\n",
    "\n",
    "    if not os.path.exists(PATH_DOWNLOAD):\n",
    "        os.makedirs(PATH_DOWNLOAD)\n",
    "\n",
    "    FILE_DONWLOAD = f\"{PATH_DOWNLOAD}/{FILE_NAME}\"   \n",
    "    print(FILE_NAME, PATH_DOWNLOAD, FILE_DONWLOAD)     \n",
    "    with open(FILE_DONWLOAD, 'wb') as f:\n",
    "        client.download_fileobj(parser.get('aws_digital_ocean', 'BUCKET'), item['file_name'], f)"
   ]
  }
 ],
 "metadata": {
  "kernelspec": {
   "display_name": "spark",
   "language": "python",
   "name": "python3"
  },
  "language_info": {
   "codemirror_mode": {
    "name": "ipython",
    "version": 3
   },
   "file_extension": ".py",
   "mimetype": "text/x-python",
   "name": "python",
   "nbconvert_exporter": "python",
   "pygments_lexer": "ipython3",
   "version": "3.8.17"
  },
  "orig_nbformat": 4
 },
 "nbformat": 4,
 "nbformat_minor": 2
}
